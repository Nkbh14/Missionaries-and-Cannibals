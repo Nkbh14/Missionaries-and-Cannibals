{
  "cells": [
    {
      "cell_type": "markdown",
      "metadata": {
        "id": "view-in-github",
        "colab_type": "text"
      },
      "source": [
        "<a href=\"https://colab.research.google.com/github/Nkbh14/Python-Projects/blob/main/nikita_Fermi_Pico_Bagel_method_2_.ipynb\" target=\"_parent\"><img src=\"https://colab.research.google.com/assets/colab-badge.svg\" alt=\"Open In Colab\"/></a>"
      ]
    },
    {
      "cell_type": "markdown",
      "id": "32b7a667",
      "metadata": {
        "id": "32b7a667"
      },
      "source": [
        "## Fermi Pico Bagels\n",
        "Try playing game and understand the rules : https://communicrossings.com/html/js/pfb.htm\n"
      ]
    },
    {
      "cell_type": "markdown",
      "id": "c9b078fe",
      "metadata": {
        "id": "c9b078fe"
      },
      "source": [
        "## Step 1\n",
        "Ask the user for how many digits should be there in a number to guess. Store it in a variable `digits`.\n"
      ]
    },
    {
      "cell_type": "code",
      "execution_count": null,
      "id": "236e9d98",
      "metadata": {
        "id": "236e9d98",
        "colab": {
          "base_uri": "https://localhost:8080/"
        },
        "outputId": "6cc52086-d367-4b7c-8e39-48186b0821f1"
      },
      "outputs": [
        {
          "name": "stdout",
          "output_type": "stream",
          "text": [
            "How many digits should be there in a number to guess.2\n"
          ]
        }
      ],
      "source": [
        "digits=input('How many digits should be there in a number to guess.')"
      ]
    },
    {
      "cell_type": "markdown",
      "id": "9fcaf933",
      "metadata": {
        "id": "9fcaf933"
      },
      "source": [
        "## Step 2\n",
        "In this method, we will obtain random number using built-in `random` module.\n",
        "So we import `sample` method from `random` module.\n"
      ]
    },
    {
      "cell_type": "code",
      "source": [
        "import random\n",
        "li = list(range(0,10))\n",
        "random.shuffle(li)\n",
        "li[:x]\n",
        "x=int(digits)"
      ],
      "metadata": {
        "id": "Cs5z1nPC8WyR"
      },
      "id": "Cs5z1nPC8WyR",
      "execution_count": 2,
      "outputs": []
    },
    {
      "cell_type": "markdown",
      "id": "e5719038",
      "metadata": {
        "id": "e5719038"
      },
      "source": [
        "## Step 3\n",
        "Use `sample` method, taking `digits` as one of the arguments. It returns a list called `digit_list`."
      ]
    },
    {
      "cell_type": "code",
      "execution_count": 3,
      "id": "ca3566e4",
      "metadata": {
        "id": "ca3566e4"
      },
      "outputs": [],
      "source": [
        "\n",
        "import random\n",
        "li = list(range(0,10))\n",
        "random.shuffle(li)\n",
        "dig=li[:]\n",
        "digit_list=[str(int) for int in dig]\n"
      ]
    },
    {
      "cell_type": "markdown",
      "id": "8e86a7ba",
      "metadata": {
        "id": "8e86a7ba"
      },
      "source": [
        "You can check `digit_list` using `print` function."
      ]
    },
    {
      "cell_type": "code",
      "execution_count": null,
      "id": "2f0f04f2",
      "metadata": {
        "id": "2f0f04f2",
        "colab": {
          "base_uri": "https://localhost:8080/"
        },
        "outputId": "5d398343-dabf-48ef-d453-11c917da5d41"
      },
      "outputs": [
        {
          "output_type": "stream",
          "name": "stdout",
          "text": [
            "['6', '0', '2', '1', '7', '4', '3', '8', '5', '9']\n"
          ]
        }
      ],
      "source": [
        "print(digit_list)\n"
      ]
    },
    {
      "cell_type": "markdown",
      "id": "41c1d67e",
      "metadata": {
        "id": "41c1d67e"
      },
      "source": [
        "## Step 4\n",
        "Join all these digits and convert it into single integer using `join()` method.  Store it in a variable `original_number`.\n"
      ]
    },
    {
      "cell_type": "code",
      "execution_count": 4,
      "id": "5360d4cc",
      "metadata": {
        "id": "5360d4cc"
      },
      "outputs": [],
      "source": [
        "original_number=''.join(digit_list)"
      ]
    },
    {
      "cell_type": "markdown",
      "id": "e6a4c72a",
      "metadata": {
        "id": "e6a4c72a"
      },
      "source": [
        "## Step 5\n",
        "Define `guess_number_count` variable to count the number of guesses. Initially set it's value 1.\n"
      ]
    },
    {
      "cell_type": "code",
      "execution_count": null,
      "id": "eb14939f",
      "metadata": {
        "id": "eb14939f"
      },
      "outputs": [],
      "source": [
        "guess_number_count=1"
      ]
    },
    {
      "cell_type": "markdown",
      "id": "7d366525",
      "metadata": {
        "id": "7d366525"
      },
      "source": [
        "## Step 6\n",
        "Ask for how many number of guesses player wants to guess the number and store it in variable `guesses`."
      ]
    },
    {
      "cell_type": "code",
      "execution_count": null,
      "id": "37c38040",
      "metadata": {
        "id": "37c38040",
        "colab": {
          "base_uri": "https://localhost:8080/"
        },
        "outputId": "923e547f-b394-4309-ce92-0c996a14d2f8"
      },
      "outputs": [
        {
          "name": "stdout",
          "output_type": "stream",
          "text": [
            "How many number of guesses you wants to guess the number?2\n"
          ]
        }
      ],
      "source": [
        "guesses=input('How many number of guesses you wants to guess the number?')"
      ]
    },
    {
      "cell_type": "markdown",
      "id": "859a1ed4",
      "metadata": {
        "id": "859a1ed4"
      },
      "source": [
        "## Step 7\n",
        "Create empty list called output where we will store the output in the form of list.\n",
        "\n",
        "For example: output = [ ' Fermi ', ' Pico ' ,' Pico ' ]"
      ]
    },
    {
      "cell_type": "code",
      "execution_count": null,
      "id": "c01be9ea",
      "metadata": {
        "id": "c01be9ea"
      },
      "outputs": [],
      "source": [
        "output=[]"
      ]
    },
    {
      "cell_type": "markdown",
      "id": "2f049244",
      "metadata": {
        "id": "2f049244"
      },
      "source": [
        "## Step 8\n",
        "Import `shuffle` method from `random` module and write `shuffle(output)`."
      ]
    },
    {
      "cell_type": "code",
      "execution_count": null,
      "id": "39fcc2d8",
      "metadata": {
        "id": "39fcc2d8"
      },
      "outputs": [],
      "source": [
        "from random import shuffle\n",
        "random.shuffle(output)\n"
      ]
    },
    {
      "cell_type": "markdown",
      "id": "a61e98d9",
      "metadata": {
        "id": "a61e98d9"
      },
      "source": [
        "## Step 9\n",
        "Take a number as user input and save it in a variable `guess_number`."
      ]
    },
    {
      "cell_type": "code",
      "execution_count": null,
      "id": "51f429b6",
      "metadata": {
        "id": "51f429b6",
        "colab": {
          "base_uri": "https://localhost:8080/"
        },
        "outputId": "e4b5e663-2415-4ac6-8684-fd97d7e41802"
      },
      "outputs": [
        {
          "name": "stdout",
          "output_type": "stream",
          "text": [
            "23\n"
          ]
        }
      ],
      "source": [
        "guess_number=input()"
      ]
    },
    {
      "cell_type": "markdown",
      "id": "95601859",
      "metadata": {
        "id": "95601859"
      },
      "source": [
        "## Step 10\n",
        "Check if number of digits of `original_number` and `guess_number` is same, if not then ask user for valid input.(Use `len()` function)."
      ]
    },
    {
      "cell_type": "code",
      "execution_count": null,
      "id": "8cd22201",
      "metadata": {
        "id": "8cd22201",
        "colab": {
          "base_uri": "https://localhost:8080/"
        },
        "outputId": "0ef3697a-63e9-42de-acbd-ec1389d6d3b1"
      },
      "outputs": [
        {
          "output_type": "stream",
          "name": "stdout",
          "text": [
            "provide valid input\n"
          ]
        }
      ],
      "source": [
        "if len(original_number)!=len(guess_number):\n",
        "  print('provide valid input')"
      ]
    },
    {
      "cell_type": "markdown",
      "id": "a432ccc9",
      "metadata": {
        "id": "a432ccc9"
      },
      "source": [
        "## Step 11\n",
        "Check if the digits are not repeated in a `guess_number` using `set()`.\n",
        "Note that datatype `set` allows unique values only.\n"
      ]
    },
    {
      "cell_type": "code",
      "execution_count": null,
      "id": "548cbab9",
      "metadata": {
        "id": "548cbab9",
        "colab": {
          "base_uri": "https://localhost:8080/"
        },
        "outputId": "067b00fe-bf8a-4312-c719-8ed47af2f401"
      },
      "outputs": [
        {
          "output_type": "execute_result",
          "data": {
            "text/plain": [
              "{'2', '3'}"
            ]
          },
          "metadata": {},
          "execution_count": 12
        }
      ],
      "source": [
        "set(guess_number)"
      ]
    },
    {
      "cell_type": "markdown",
      "id": "c8ff52fd",
      "metadata": {
        "id": "c8ff52fd"
      },
      "source": [
        "## Step 12\n",
        "Check if any digit and it's position in both `guess_number` and `original_number` are same then append 'Fermi' to `ouput` list or if only digit matches and not the position then append 'Pico' to `output`.\n"
      ]
    },
    {
      "cell_type": "code",
      "source": [
        "original_number='234'\n",
        "guess_number='325'\n",
        "output=[]\n",
        "for x , y in enumerate(original_number):\n",
        "    if y in guess_number and  x==guess_number.index(y):\n",
        "      output.append('Fermi')\n",
        "    elif y in guess_number:\n",
        "        output.append('pico')"
      ],
      "metadata": {
        "id": "Pn5Ijv4q57al"
      },
      "id": "Pn5Ijv4q57al",
      "execution_count": 5,
      "outputs": []
    },
    {
      "cell_type": "markdown",
      "id": "dc7c88d8",
      "metadata": {
        "id": "dc7c88d8"
      },
      "source": [
        "## Step 13\n",
        "Convert the a list `output` into string with each value separated by space. Define that string as `output_string`.\n",
        "\n",
        "Use `join()` method to add space between them."
      ]
    },
    {
      "cell_type": "code",
      "execution_count": null,
      "id": "2e13ab89",
      "metadata": {
        "id": "2e13ab89"
      },
      "outputs": [],
      "source": [
        "output_string=' '.join(output)"
      ]
    },
    {
      "cell_type": "markdown",
      "id": "fc4fe4c5",
      "metadata": {
        "id": "fc4fe4c5"
      },
      "source": [
        "## Step 14\n",
        "Check if neither any digit matches nor any position then output must be `Bagel`.This means output list should be empty.\n",
        "\n",
        "\n",
        "Otherwise print `output_string`."
      ]
    },
    {
      "cell_type": "code",
      "execution_count": 6,
      "id": "31aa75c1",
      "metadata": {
        "id": "31aa75c1"
      },
      "outputs": [],
      "source": [
        "for i in original_number:\n",
        "  if i not in guess_number:\n",
        "    output.append('Bagel')"
      ]
    },
    {
      "cell_type": "markdown",
      "id": "f20e2364",
      "metadata": {
        "id": "f20e2364"
      },
      "source": [
        "## Step 15\n",
        "Check winning condition and print ' You win !! '.\n"
      ]
    },
    {
      "cell_type": "code",
      "execution_count": null,
      "id": "ea66476b",
      "metadata": {
        "id": "ea66476b"
      },
      "outputs": [],
      "source": [
        "if original_number==guess_number:\n",
        "  print('You win!!!')"
      ]
    },
    {
      "cell_type": "markdown",
      "id": "7cf7e9ea",
      "metadata": {
        "id": "7cf7e9ea"
      },
      "source": [
        "Check losing condition i.e. when player could not guess the number within allowed number of guesses and print the answer."
      ]
    },
    {
      "cell_type": "code",
      "execution_count": null,
      "id": "2f58084e",
      "metadata": {
        "id": "2f58084e"
      },
      "outputs": [],
      "source": [
        "if original_number!=guess_number and guess_number_count==guess_number:\n",
        "  print('You lose!')\n",
        "\n",
        "  "
      ]
    },
    {
      "cell_type": "markdown",
      "id": "4a7da325",
      "metadata": {
        "id": "4a7da325"
      },
      "source": [
        "## Complete game"
      ]
    },
    {
      "cell_type": "code",
      "execution_count": 1,
      "id": "bfd5aa98",
      "metadata": {
        "id": "bfd5aa98",
        "colab": {
          "base_uri": "https://localhost:8080/"
        },
        "outputId": "4c866ebb-f581-453e-c291-e788aaa89f07"
      },
      "outputs": [
        {
          "output_type": "stream",
          "name": "stdout",
          "text": [
            "How many digits should be there in a number to guess.3\n",
            "How many number of guesses you wants to guess the number?10\n",
            "Guess  1\n",
            "123\n",
            "Pico\n",
            "Guess  2\n",
            "456\n",
            "PicoPico\n",
            "Guess  3\n",
            "365\n",
            "PicoPico\n",
            "Guess  4\n",
            "640\n",
            "Pico\n",
            "Guess  5\n",
            "534\n",
            "FermiFermiFermi\n",
            "You win!!!\n"
          ]
        }
      ],
      "source": [
        "digits=input('How many digits should be there in a number to guess.')\n",
        "x=int(digits)\n",
        "import random\n",
        "li = list(range(0,10))\n",
        "random.shuffle(li)\n",
        "x=int(digits)\n",
        "dig=li[0:x]\n",
        "digit_list=[str(int) for int in dig]\n",
        "original_number=''.join(digit_list)\n",
        "guess_number_count=1\n",
        "guesses=int(input('How many number of guesses you wants to guess the number?'))\n",
        "guess_number_count=1\n",
        "while True:\n",
        "  \n",
        "  output=[]\n",
        "  print('Guess ', guess_number_count ) \n",
        "  guess_number_count = guess_number_count + 1  \n",
        "\n",
        "  guess_number=input()\n",
        "  if len(original_number)!=len(guess_number):\n",
        "    print('Digit count not matching')\n",
        "    continue\n",
        "\n",
        "  if len(set(guess_number))!= len(original_number):\n",
        "    print('Duplicate nos. ')\n",
        "    continue\n",
        "\n",
        "  for x , y in enumerate(original_number):\n",
        "    if y in guess_number and  x==guess_number.index(y):\n",
        "      output.append('Fermi')\n",
        "    elif y in guess_number:\n",
        "        output.append('Pico')\n",
        "\n",
        "  from random import shuffle\n",
        "  #random.shuffle(output)\n",
        "  output_string=''.join(output)\n",
        "  # print(output_string)\n",
        "  \n",
        "  if ('Fermi' not in output) and ('Pico' not in output):\n",
        "    output.append('Bagel')\n",
        "    output_string=' '.join(output)\n",
        "  \n",
        "  print(output_string)\n",
        " \n",
        "  if original_number==guess_number:\n",
        "    print('You win!!!')\n",
        "    break\n",
        "  if guess_number_count>guesses:\n",
        "    if original_number!=guess_number:\n",
        "      print('You lose!')\n",
        "      break"
      ]
    },
    {
      "cell_type": "code",
      "source": [
        ""
      ],
      "metadata": {
        "id": "QOZkdS9PxNZm"
      },
      "id": "QOZkdS9PxNZm",
      "execution_count": 1,
      "outputs": []
    }
  ],
  "metadata": {
    "kernelspec": {
      "display_name": "Python 3",
      "language": "python",
      "name": "python3"
    },
    "language_info": {
      "codemirror_mode": {
        "name": "ipython",
        "version": 3
      },
      "file_extension": ".py",
      "mimetype": "text/x-python",
      "name": "python",
      "nbconvert_exporter": "python",
      "pygments_lexer": "ipython3",
      "version": "3.8.8"
    },
    "colab": {
      "name": " nikita Fermi_Pico_Bagel_method-2_.ipynb",
      "provenance": [],
      "collapsed_sections": [],
      "include_colab_link": true
    }
  },
  "nbformat": 4,
  "nbformat_minor": 5
}